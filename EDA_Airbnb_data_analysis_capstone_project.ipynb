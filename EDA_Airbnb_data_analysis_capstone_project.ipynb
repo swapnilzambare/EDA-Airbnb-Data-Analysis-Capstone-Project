{
  "nbformat": 4,
  "nbformat_minor": 0,
  "metadata": {
    "colab": {
      "name": "EDA-Airbnb data analysis capstone project.ipynb",
      "provenance": [],
      "authorship_tag": "ABX9TyP62FGYwThAMC283SWxPuIr",
      "include_colab_link": true
    },
    "kernelspec": {
      "name": "python3",
      "display_name": "Python 3"
    },
    "language_info": {
      "name": "python"
    }
  },
  "cells": [
    {
      "cell_type": "markdown",
      "metadata": {
        "id": "view-in-github",
        "colab_type": "text"
      },
      "source": [
        "<a href=\"https://colab.research.google.com/github/swapnilzambare/EDA-Airbnb-Data-Analysis-Capstone-Project/blob/main/EDA_Airbnb_data_analysis_capstone_project.ipynb\" target=\"_parent\"><img src=\"https://colab.research.google.com/assets/colab-badge.svg\" alt=\"Open In Colab\"/></a>"
      ]
    },
    {
      "cell_type": "markdown",
      "source": [
        "## <b> Since 2008, guests and hosts have used Airbnb to expand on traveling possibilities and present a more unique, personalized way of experiencing the world. Today, Airbnb became one of a kind service that is used and recognized by the whole world. Data analysis on millions of listings provided through Airbnb is a crucial factor for the company. These millions of listings generate a lot of data - data that can be analyzed and used for security, business decisions, understanding of customers' and providers' (hosts) behavior and performance on the platform, guiding marketing initiatives, implementation of innovative additional services and much more. </b>\n",
        "\n",
        "## <b>This dataset has around 49,000 observations in it with 16 columns and it is a mix between categorical and numeric values. </b>\n",
        "\n",
        "## <b> Explore and analyze the data to discover key understandings (not limited to these) such as : \n",
        "* What can we learn about different hosts and areas?\n",
        "* What can we learn from predictions? (ex: locations, prices, reviews, etc)\n",
        "* Which hosts are the busiest and why?\n",
        "* Is there any noticeable difference of traffic among different areas and what could be the reason for it? </b>"
      ],
      "metadata": {
        "id": "g3ezmnPHOGNV"
      }
    },
    {
      "cell_type": "markdown",
      "source": [
        "# **1. Acquire and loading data**"
      ],
      "metadata": {
        "id": "jDMs3QsbOrO8"
      }
    },
    {
      "cell_type": "markdown",
      "source": [
        "# **Load python libraries**"
      ],
      "metadata": {
        "id": "WuvosHXtOx5T"
      }
    },
    {
      "cell_type": "code",
      "source": [
        "# Python libraries\n",
        "import numpy as np\n",
        "import pandas as pd\n",
        "import matplotlib.pyplot as plt\n",
        "import matplotlib.image as mpimg\n",
        "%matplotlib inline\n",
        "import seaborn as sns\n",
        "import warnings\n",
        "warnings.filterwarnings('ignore')"
      ],
      "metadata": {
        "id": "aPrmIV6HOmDB"
      },
      "execution_count": null,
      "outputs": []
    },
    {
      "cell_type": "markdown",
      "source": [
        "# **Load dataset**"
      ],
      "metadata": {
        "id": "RxWxAiqhPC2C"
      }
    },
    {
      "cell_type": "code",
      "source": [
        "# Mounting drive for import csv file data\n",
        "from google.colab import drive\n",
        "drive.mount('/content/drive')"
      ],
      "metadata": {
        "id": "TF7Ygt2NPD5O"
      },
      "execution_count": null,
      "outputs": []
    },
    {
      "cell_type": "code",
      "source": [
        "# Importing csv file of Airbnb NYC 2019 from drive\n",
        "airbnb= pd.read_csv(\"/content/drive/MyDrive/Copy of Airbnb NYC 2019.csv\")"
      ],
      "metadata": {
        "id": "EZDP3oLRPBX5"
      },
      "execution_count": null,
      "outputs": []
    },
    {
      "cell_type": "code",
      "execution_count": null,
      "metadata": {
        "id": "nPZdom2cN_RE"
      },
      "outputs": [],
      "source": [
        "# Check file\n",
        "airbnb"
      ]
    },
    {
      "cell_type": "markdown",
      "source": [
        "# **Understanding data**\n",
        "**After we load the dataset, we need to understand the dataset by using various techniques. First, we need to look for information on how big is our dataset. By using shape attributes, we get to know our data size from a number of rows which consist of listing index, and the number of columns with the content of every features related to the index.**"
      ],
      "metadata": {
        "id": "RoqtBlDXPhui"
      }
    },
    {
      "cell_type": "code",
      "source": [
        ""
      ],
      "metadata": {
        "id": "NAdlv0vQPjVd"
      },
      "execution_count": null,
      "outputs": []
    }
  ]
}